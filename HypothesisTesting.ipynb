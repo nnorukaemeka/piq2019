{
 "cells": [
  {
   "cell_type": "markdown",
   "metadata": {},
   "source": [
    "***Link to my github account where I made the submission: https://github.com/nnorukaemeka/piq2019***"
   ]
  },
  {
   "cell_type": "markdown",
   "metadata": {},
   "source": [
    "### Project Hypothesis Testing:   “Free Trial” Screener\n",
    "----\n",
    "**Project description**: \n",
    "\n",
    "Udacity is an online learning system (https://www.udacity.com/).  At the time of the experiment, Udacity courses had two options on the course overview page: \"start free trial\", and \"access course materials\". If the student clicks \"start free trial\", they will be asked to enter their credit card information, and then they will be enrolled in a free trial for the paid version of the course. If the student clicks \"access course materials\", they will be able to view the videos and take the quizzes for free, but they will not receive coaching support or a verified certificate, and they will not submit their final project for feedback.\n",
    "\n",
    "Udacity tested a change where if the student clicked \"start free trial\", they were asked how much time they had available to devote to the course. If the student indicated 5 or more hours per week, they would be taken through the checkout process as usual. If they indicated fewer than 5 hours per week, a message will appear indicating that Udacity courses usually require a greater time commitment for successful completion, and suggesting that the student might like to access the course materials for free.\n",
    "\n",
    "The hypothesis was that this might set clearer expectations for students upfront, thus reducing the number of frustrated students who left the free trial because they didn't have enough time—without significantly reducing the number of students to continue past the free trial and eventually complete the course. If this hypothesis held true, Udacity could improve the overall student experience and improve coaches' capacity to support students who are likely to complete the course.\n",
    "\n",
    "For more reference on this problem refer: https://docs.google.com/document/u/1/d/1aCquhIqsUApgsxQ8-SQBAigFDcfWVVohLEXcV6jWbdI/pub?embedded=True\n",
    "\n",
    "\n",
    "#### Data description :\n",
    "Columns:\n",
    "- Pageviews: Number of unique cookies to view the course overview page that day. \n",
    "- Clicks: Number of unique cookies to click the course overview page that day. \n",
    "- Enrollments: Number of user-ids to enroll in the free trial that day. \n",
    "- Payments: Number of user-ids who enrolled on that day to remain enrolled for 14 days and thus make a payment. (Note that the date for this column is the start date, that is, the date of enrollment, rather than the date of the payment. The payment happened 14 days later. Because of this, the enrollments and payments are tracked for 14 fewer days than the other columns.)\n"
   ]
  },
  {
   "cell_type": "markdown",
   "metadata": {},
   "source": [
    "---\n",
    "### Instructions\n",
    "Based on the scenario outlined above and the data associated with this project, you are required to perform A/B testing and Machine Learning analysis. You must also answer the quiz questions linked with this project. For convenience, the quiz questions are copied below. \n",
    "\n",
    "**Deadline:** Please complete the quiz, and submit all the data analysis work you carried out in this jupiter notebook via Github - see instructions below - at the very latest by 23h59 on Thursday 8 August 2019. \n",
    "\n",
    "**Why this project?**\n",
    "\n",
    "\n",
    "This project is designed with the two main points in mind\n",
    "\n",
    "\n",
    "We need to understand your proficiency in the important data science concepts (statistical, algorithmic, and others) and hard skills (advanced programming in python or R)\n",
    "To give you an additional opportunity to add a few more data science project experience into your portfolio.  \n",
    "\n",
    "\n",
    "So please put maximum effort to demonstrate your skill in this project. Answer the quiz with diligence, and perform the data analysis as best as you can. \n",
    "\n",
    "**Detailed instruction**:\n",
    "\n",
    "- Git Fork/Clone the project jupyter notebooks and the corresponding data from this github: https://github.com/10acad/piq2019\n",
    "The jupyter notebook “HypothesisTesting.ipynb”, which contains this instruction in the first markdown cell, is for this project.\n",
    "- The “data/UdacityABtesting.xlsx” excel file is the data for this project\n",
    "- Following the recommended tasks below, perform A/B testing and Machine learning analysis on the data while at the same time answering the questions listed below.\n",
    "- At the minimum you must perform an analysis that will allow you to answer the questions, visualize features, and produce a model to draw a reasonable conclusion. The more detailed your data analysis and clear answers to the quiz, the better it will be for your selection as 10 Academy Fellow as well as you stand a better chance to get a job interviews. Note that these notebooks and your other work at Github are critical for your Data Science Career - as they are the evidence to your skills. So even after submitting whatever you managed to do by the deadline, keep improving your model and explanations.  \n",
    "- PLEASE SUBMIT WHATEVER YOU MANAGED TO DO BEFORE THE DEADLINE. WE KNOW THE TIME IS SHORT, AND IT IS FOR A PURPOSE. \n",
    "- Upload your jupyter notebook to your Github public repository. If you have forked Github link above, which is what we recommend, then you just have to do the following \n",
    "    - git add -u *  #add all modified files tracked by git \n",
    "    - git commit -m ‘submit’ \n",
    "    - git push\n",
    "- Copy the Github link to your version of “HypothesisTesting.ipynb” and paste it here (the 10 Academy quiz page). If you prefer, there is also a possibility to directly upload your jupyter notebook.\n",
    "- If you have any questions or confusions regarding what you are expected to do in this project or how to submit, please contact community@10academy.org well before the deadline.\n"
   ]
  },
  {
   "cell_type": "markdown",
   "metadata": {},
   "source": [
    "### Objective 1:  A/B testing \n",
    "\n",
    "**Quiz**:\n",
    "- From the project description above, what is the metrics the A/B testing intends to improve? Note that in many cases A/B testing is measured using the companies Key Performance Indicators such as page visits, customer satisfaction, etc.    \n",
    "- How many days of observation are there in the control and experimental group?\n",
    "- How many missing values are there in each of the control and experiments data?\n",
    "- The experiment for this project involves displaying a screen if a user clicks a particular button. What is the underlying statistical probability distribution for a data collected from this type of experiments? Why?\n",
    "\n",
    "\n",
    "- Assessment of the statistical significance of an A/B test is dependent on what kind of probability distribution the experimental data follows. Given your answer above, which statistical tests are appropriate to use for this project? \n",
    "\n",
    "- In frequentist analysis, mostly used for A/B testing, we use p-values to measure the significance of the experimental feature over the null hypothesis (the hypothesis that the new feature does not have an impact). How are p-values computed? What information do p-values provide? Are you familiar with type-I and type-II errors? Can you comment to which error types p-values are related? \n",
    "\n",
    "\n",
    "- Are the number of data points in the experiment enough to make a reasonable judgement or should Udacity run a longer experiment? Remember that running the experiment longer may be costly for many reasons, so you should always optimize the number of samples to make a statistically sound decision. \n",
    "- What does your A/B testing analysis tells you? Does the experimental feature improve Enrollment, the target variable? \n",
    "- Bonus points: Briefly describe your understanding of Bayesian A/B testing?\n",
    "\n",
    "**Data analysis tasks**:\n",
    "Tasks you need to perform here to demonstrate your understanding:\n",
    " * Plan your analysis steps  - write down your plan in the Jupyter markup cell \n",
    " * Load and explore the control and experiment data tables\n",
    " * Visualize some of the features to understand patterns and relationships \n",
    " * Perform A/B testing analysis pay attention to the following details\n",
    "Missing values\n",
    "Errors on your final result\n"
   ]
  },
  {
   "cell_type": "markdown",
   "metadata": {},
   "source": [
    "### Objective 2: Machine Learning\n",
    "\n",
    "**Quiz**:\n",
    "- Which data features are relevant to predicting the target variable? \n",
    "- Explain what the difference is between using A/B testing to test a hypothesis (in this case showing a message window) vs using - Machine learning to learn the viability of the same effect? \n",
    "- Understand why Machine Learning could be a better approach for performing A/B Testing versus traditional statistical inference (e.g. z-score, t-test)\n",
    "- Explain the purpose of training using k-fold cross validation instead of using the whole data to train the ML models?\n",
    "- Does the \"Experiment\" column prove to be relevant to predicting Enrollment? What does this tell you? Compare this with the A/B testing you did earlier. \n",
    "- What information do you gain using the Machine Learning approach that you couldn’t obtain using A/B testing?\n",
    "\n",
    "**Data analysis tasks**:\n",
    "- Combine the control_tbl and experiment_tbl, adding an “id” column indicating if the data was part of the experiment or not\n",
    "- Add a “row_id” column to help for tracking which rows are selected for training and testing in the modeling section\n",
    "- Create a “Day of Week” feature from the “Date” column\n",
    "- Drop the “Date” column and the “Payments” column\n",
    "- Handle the missing data (NA) by removing these rows.\n",
    "- Shuffle the rows to mix the data up for learning\n",
    "- Using the “Enrollments” columns as target variable, train a machine learning model using 5-fold cross validation the following 3 different algorithms:\n",
    "    - Linear Regression\n",
    "    - Decision Trees\n",
    "    - XGBoost\n",
    "- Calculate the Root Mean Square Error Mean Absolute Error (MAE), Root mean squared error (RMSE)  errors of the model using the test data. See <a href=https://medium.com/human-in-a-machine-world/mae-and-rmse-which-metric-is-better-e60ac3bde13d> here </a> for reference on these metrics.\n",
    "- Compute feature importance - what’s driving the model? Which parameters are important predictors for the difference ML models? What contributes to the goal of gaining Enrollments?\n",
    "- Discuss your results - draw some conclusions. For example how is the Experiment=0 or 1 variable related to the Enrollment prediction? Hint: think of positive and negative correlations. \n",
    "- Explain what information you gain using the Machine Learning approach that you couldn’t obtain using A/B testing?\n",
    "- Make a recommendation on what Udacity should do?\n",
    "- Comment on what will improve your model.\n",
    "- Comment on the challenges you encountered."
   ]
  },
  {
   "cell_type": "markdown",
   "metadata": {},
   "source": [
    "# SOLUTION 1: A/B testing"
   ]
  },
  {
   "cell_type": "markdown",
   "metadata": {},
   "source": [
    "## Answers to the Quiz questions"
   ]
  },
  {
   "cell_type": "markdown",
   "metadata": {},
   "source": [
    "- From the project description above, what is the metrics the A/B testing intends to improve? Note that in many cases A/B testing is measured using the companies Key Performance Indicators such as page visits, customer satisfaction, etc.\n",
    "<p style=\"color:blue;font-size:11pt;\">Answer: The metrics the A/B testing intends to improve is the Enrollments </p>\n",
    "- How many days of observation are there in the control and experimental group?\n",
    "<p style=\"color:blue;font-size:11pt;\">Answer: There are total of 37 observations in BOTH the control and experimental group </p>\n",
    "- How many missing values are there in each of the control and experiments data?\n",
    "<p style=\"color:blue;font-size:11pt;\">Answer: There are 14 days of missing observations in BOTH the control and experimental data </p>\n",
    "- The experiment for this project involves displaying a screen if a user clicks a particular button. What is the underlying statistical probability distribution for a data collected from this type of experiments? Why?\n",
    "<p style=\"color:blue;font-size:11pt;\">Answer: The underlying statistical probability distribution for a data collected from this type of experiments is 0.5; this is because the probability has 50% chance to happen </p>\n",
    "- Assessment of the statistical significance of an A/B test is dependent on what kind of probability distribution the experimental data follows. Given your answer above, which statistical tests are appropriate to use for this project? \n",
    "<p style=\"color:blue;font-size:11pt;\">Answer: The statistical tests that are appropriate to use for this project are sign test, t-test, p-values test </p>\n",
    "- In frequentist analysis, mostly used for A/B testing, we use p-values to measure the significance of the experimental feature over the null hypothesis (the hypothesis that the new feature does not have an impact). How are p-values computed? What information do p-values provide? Are you familiar with type-I and type-II errors? Can you comment to which error types p-values are related? \n",
    "<p style=\"color:blue;font-size:11pt;\">Answer: Type I error — or falsely concluding that your intervention was successful (which\n",
    "here might be falsely concluding that layout B is better than Layout A). Also known\n",
    "as a false positive result. Type II error — falsely concluding that your intervention was not successful. Also\n",
    "known as a false negative result. The error types p-values are related is Type I error</p>\n",
    "- Are the number of data points in the experiment enough to make a reasonable judgement or should Udacity run a longer experiment? Remember that running the experiment longer may be costly for many reasons, so you should always optimize the number of samples to make a statistically sound decision. \n",
    "<p style=\"color:blue;font-size:11pt;\">Answer: No, the number of data points in the experiment are not enough to make reasonable judgement. Machine learning can be used to carry out data augmentation. </p>\n",
    "- What does your A/B testing analysis tells you? Does the experimental feature improve Enrollment, the target variable? \n",
    "- Bonus points: Briefly describe your understanding of Bayesian A/B testing?\n",
    "<p style=\"color:blue;font-size:11pt;\">Answer: Bayesian A/B testing focuses on the average magnitude of wrong decisions over the course of many experiments. It limits the average amount by which your decisions actually make the product worse, thereby providing guarantees about the long run improvement of a metric </p>"
   ]
  },
  {
   "cell_type": "markdown",
   "metadata": {},
   "source": [
    "## Data analysis tasks\n",
    "### Analysis steps:\n",
    "In this analysis, I will be investigating which features contribute to enrollments and also, find out if the new “Setting Expectations” form has any impact on enrollments.\n",
    "\n",
    "    The users that experience the form will be denoted as “Experiment”\n",
    "    The users that don’t see the form will be denoted as “control”\n",
    "  Steps involved include:\n",
    "   * Importing some Libraries that will be used for the analysis\n",
    "   * Load and explore the control and experiment data tables\n",
    "   * Visualize some of the features to understand patterns and relationships\n",
    "   * Then move to Machine Learning Analysis, as I don't know how to perform A/B testing analysis"
   ]
  },
  {
   "cell_type": "code",
   "execution_count": null,
   "metadata": {},
   "outputs": [],
   "source": []
  },
  {
   "cell_type": "markdown",
   "metadata": {},
   "source": [
    "## Import the Libraries"
   ]
  },
  {
   "cell_type": "code",
   "execution_count": 1,
   "metadata": {},
   "outputs": [],
   "source": [
    "import sys\n",
    "import csv\n",
    "import pandas as pd\n",
    "import numpy as np\n",
    "import matplotlib.pyplot as plt\n",
    "import seaborn as sns\n",
    "\n",
    "#Makes graph display in notebook\n",
    "%matplotlib inline   \n",
    "\n",
    "#ignore warnings\n",
    "#import warnings\n",
    "#def ignore_warn(*args, **kwargs):\n",
    "#    pass \n",
    "#warnings.warn = ignore_warn()"
   ]
  },
  {
   "cell_type": "code",
   "execution_count": null,
   "metadata": {},
   "outputs": [],
   "source": []
  },
  {
   "cell_type": "markdown",
   "metadata": {},
   "source": [
    "## Import the Data\n",
    "I will use the ExcelFile() function to load the entire Excel file. Then, pd.read_excel(file_name, sheetname=\"control\") function or file_name.parse() function to read the different Excel sheets."
   ]
  },
  {
   "cell_type": "code",
   "execution_count": 2,
   "metadata": {},
   "outputs": [],
   "source": [
    "#Import the Data\n",
    "dataset = pd.ExcelFile(\"data/UdacityABtesting.xlsx\")\n",
    "control_tbl = pd.read_excel(dataset, 'Control')\n",
    "#control_tbl = dataset.parse(0)\n",
    "experiment_tbl = pd.read_excel(dataset, 'Experiment')\n",
    "#experiment_tbl = dataset.parse(1)"
   ]
  },
  {
   "cell_type": "code",
   "execution_count": null,
   "metadata": {},
   "outputs": [],
   "source": []
  },
  {
   "cell_type": "markdown",
   "metadata": {},
   "source": [
    "## Display the Data\n",
    "I will use the head() function to display the first 5 rows of the data (control_tbl and experiment_tbl)"
   ]
  },
  {
   "cell_type": "code",
   "execution_count": 3,
   "metadata": {},
   "outputs": [
    {
     "name": "stdout",
     "output_type": "stream",
     "text": [
      "                     control_tbl\n",
      "          Date  Pageviews  Clicks  Enrollments  Payments\n",
      "0  Sat, Oct 11       7723     687        134.0      70.0\n",
      "1  Sun, Oct 12       9102     779        147.0      70.0\n",
      "2  Mon, Oct 13      10511     909        167.0      95.0\n",
      "3  Tue, Oct 14       9871     836        156.0     105.0\n",
      "4  Wed, Oct 15      10014     837        163.0      64.0\n",
      "\n",
      "\n",
      "                     experiment_tbl\n",
      "          Date  Pageviews  Clicks  Enrollments  Payments\n",
      "0  Sat, Oct 11       7716     686        105.0      34.0\n",
      "1  Sun, Oct 12       9288     785        116.0      91.0\n",
      "2  Mon, Oct 13      10480     884        145.0      79.0\n",
      "3  Tue, Oct 14       9867     827        138.0      92.0\n",
      "4  Wed, Oct 15       9793     832        140.0      94.0\n",
      "\n",
      "\n"
     ]
    }
   ],
   "source": [
    "#A look at the data\n",
    "print('                     control_tbl')\n",
    "print(control_tbl.head(5))\n",
    "print(\"\\n\")\n",
    "print('                     experiment_tbl')\n",
    "print(experiment_tbl.head(5))\n",
    "print(\"\\n\")\n"
   ]
  },
  {
   "cell_type": "markdown",
   "metadata": {},
   "source": [
    "## Explore the Data"
   ]
  },
  {
   "cell_type": "code",
   "execution_count": 4,
   "metadata": {},
   "outputs": [
    {
     "name": "stdout",
     "output_type": "stream",
     "text": [
      " control_tbl\n",
      "(37, 5) \n",
      "\n",
      "\n",
      " experiment_tbl\n",
      "(37, 5)\n"
     ]
    }
   ],
   "source": [
    "#Display the number of rows and columns\n",
    "print(' control_tbl')\n",
    "print(control_tbl.shape,\"\\n\"*2)\n",
    "print(' experiment_tbl')\n",
    "print(experiment_tbl.shape)"
   ]
  },
  {
   "cell_type": "markdown",
   "metadata": {},
   "source": [
    "From the results, both the control_tbl and the experiment_tbl have 37 rows and 5 columns consisting of Date, Pageviews, Clicks, Enrollments and Payments."
   ]
  },
  {
   "cell_type": "code",
   "execution_count": 5,
   "metadata": {},
   "outputs": [
    {
     "name": "stdout",
     "output_type": "stream",
     "text": [
      "                     control_tbl\n",
      "Date            object\n",
      "Pageviews        int64\n",
      "Clicks           int64\n",
      "Enrollments    float64\n",
      "Payments       float64\n",
      "dtype: object \n",
      "\n",
      "\n",
      "                     experiment_tbl\n",
      "Date            object\n",
      "Pageviews        int64\n",
      "Clicks           int64\n",
      "Enrollments    float64\n",
      "Payments       float64\n",
      "dtype: object\n"
     ]
    }
   ],
   "source": [
    "#Display the data-types of the two sets\n",
    "print('                     control_tbl')\n",
    "print(control_tbl.dtypes,\"\\n\"*2)\n",
    "print('                     experiment_tbl')\n",
    "print(experiment_tbl.dtypes)"
   ]
  },
  {
   "cell_type": "code",
   "execution_count": 6,
   "metadata": {},
   "outputs": [
    {
     "name": "stdout",
     "output_type": "stream",
     "text": [
      "                     control_tbl\n",
      "          Pageviews      Clicks  Enrollments    Payments\n",
      "count     37.000000   37.000000    23.000000   23.000000\n",
      "mean    9339.000000  766.972973   164.565217   88.391304\n",
      "std      740.239563   68.286767    29.977000   20.650202\n",
      "min     7434.000000  632.000000   110.000000   56.000000\n",
      "25%     8896.000000  708.000000   146.500000   70.000000\n",
      "50%     9420.000000  759.000000   162.000000   91.000000\n",
      "75%     9871.000000  825.000000   175.000000  102.500000\n",
      "max    10667.000000  909.000000   233.000000  128.000000 \n",
      "\n",
      "\n",
      "                     experiment_tbl\n",
      "          Pageviews      Clicks  Enrollments    Payments\n",
      "count     37.000000   37.000000    23.000000   23.000000\n",
      "mean    9315.135135  765.540541   148.826087   84.565217\n",
      "std      708.070781   64.578374    33.234227   23.060841\n",
      "min     7664.000000  642.000000    94.000000   34.000000\n",
      "25%     8881.000000  722.000000   127.000000   69.000000\n",
      "50%     9359.000000  770.000000   142.000000   91.000000\n",
      "75%     9737.000000  827.000000   172.000000   99.000000\n",
      "max    10551.000000  884.000000   213.000000  123.000000\n"
     ]
    }
   ],
   "source": [
    "print('                     control_tbl')\n",
    "print(control_tbl.describe(),\"\\n\"*2)\n",
    "print('                     experiment_tbl')\n",
    "print(experiment_tbl.describe())\n"
   ]
  },
  {
   "cell_type": "code",
   "execution_count": 7,
   "metadata": {},
   "outputs": [
    {
     "name": "stdout",
     "output_type": "stream",
     "text": [
      "                     control_tbl\n",
      "Date           37\n",
      "Pageviews      37\n",
      "Clicks         37\n",
      "Enrollments    23\n",
      "Payments       23\n",
      "dtype: int64 \n",
      "\n",
      "\n",
      "                     experiment_tbl\n",
      "Date           37\n",
      "Pageviews      37\n",
      "Clicks         37\n",
      "Enrollments    23\n",
      "Payments       23\n",
      "dtype: int64\n"
     ]
    }
   ],
   "source": [
    "print('                     control_tbl')\n",
    "print(control_tbl.count(),\"\\n\"*2)\n",
    "print('                     experiment_tbl')\n",
    "print(experiment_tbl.count())"
   ]
  },
  {
   "cell_type": "code",
   "execution_count": null,
   "metadata": {},
   "outputs": [],
   "source": []
  },
  {
   "cell_type": "markdown",
   "metadata": {},
   "source": [
    "From the above results, I found out that:\n",
    "   * there are total of 37 observations in BOTH the control set and the experiment set\n",
    "   * We can see that Date is formatted as an object data type.\n",
    "   * Data between the experiment group and the control group is in the same format. Same number of observations (37 days)"
   ]
  },
  {
   "cell_type": "code",
   "execution_count": null,
   "metadata": {},
   "outputs": [],
   "source": []
  },
  {
   "cell_type": "markdown",
   "metadata": {},
   "source": [
    "Next, I will be checking the data quality by checking for:\n",
    "  * Missing Data and\n",
    "  * Data Format"
   ]
  },
  {
   "cell_type": "markdown",
   "metadata": {},
   "source": [
    "## Check for Missing Data"
   ]
  },
  {
   "cell_type": "code",
   "execution_count": 8,
   "metadata": {},
   "outputs": [
    {
     "name": "stdout",
     "output_type": "stream",
     "text": [
      "                     control_tbl\n",
      "Date            0\n",
      "Pageviews       0\n",
      "Clicks          0\n",
      "Enrollments    14\n",
      "Payments       14\n",
      "dtype: int64 \n",
      "\n",
      "\n",
      "                     experiment_tbl\n",
      "Date            0\n",
      "Pageviews       0\n",
      "Clicks          0\n",
      "Enrollments    14\n",
      "Payments       14\n",
      "dtype: int64\n"
     ]
    }
   ],
   "source": [
    "#Print null columns\n",
    "print('                     control_tbl')\n",
    "print(control_tbl.isnull().sum(),\"\\n\"*2)\n",
    "print('                     experiment_tbl')\n",
    "print(experiment_tbl.isnull().sum())"
   ]
  },
  {
   "cell_type": "markdown",
   "metadata": {},
   "source": [
    "We see there are 14 days of missing observations in the control set; and the missing data (NA) is consistent in the experiment set which is good."
   ]
  },
  {
   "cell_type": "markdown",
   "metadata": {},
   "source": [
    "Now, I want to see which values are missing."
   ]
  },
  {
   "cell_type": "code",
   "execution_count": 9,
   "metadata": {},
   "outputs": [
    {
     "name": "stdout",
     "output_type": "stream",
     "text": [
      "                     control_tbl\n",
      "           Date  Pageviews  Clicks  Enrollments  Payments\n",
      "23   Mon, Nov 3       9437     788          NaN       NaN\n",
      "24   Tue, Nov 4       9420     781          NaN       NaN\n",
      "25   Wed, Nov 5       9570     805          NaN       NaN\n",
      "26   Thu, Nov 6       9921     830          NaN       NaN\n",
      "27   Fri, Nov 7       9424     781          NaN       NaN\n",
      "28   Sat, Nov 8       9010     756          NaN       NaN\n",
      "29   Sun, Nov 9       9656     825          NaN       NaN\n",
      "30  Mon, Nov 10      10419     874          NaN       NaN\n",
      "31  Tue, Nov 11       9880     830          NaN       NaN\n",
      "32  Wed, Nov 12      10134     801          NaN       NaN\n",
      "33  Thu, Nov 13       9717     814          NaN       NaN\n",
      "34  Fri, Nov 14       9192     735          NaN       NaN\n",
      "35  Sat, Nov 15       8630     743          NaN       NaN\n",
      "36  Sun, Nov 16       8970     722          NaN       NaN \n",
      "\n",
      "\n",
      "                     experiment_tbl\n",
      "           Date  Pageviews  Clicks  Enrollments  Payments\n",
      "23   Mon, Nov 3       9359     789          NaN       NaN\n",
      "24   Tue, Nov 4       9427     743          NaN       NaN\n",
      "25   Wed, Nov 5       9633     808          NaN       NaN\n",
      "26   Thu, Nov 6       9842     831          NaN       NaN\n",
      "27   Fri, Nov 7       9272     767          NaN       NaN\n",
      "28   Sat, Nov 8       8969     760          NaN       NaN\n",
      "29   Sun, Nov 9       9697     850          NaN       NaN\n",
      "30  Mon, Nov 10      10445     851          NaN       NaN\n",
      "31  Tue, Nov 11       9931     831          NaN       NaN\n",
      "32  Wed, Nov 12      10042     802          NaN       NaN\n",
      "33  Thu, Nov 13       9721     829          NaN       NaN\n",
      "34  Fri, Nov 14       9304     770          NaN       NaN\n",
      "35  Sat, Nov 15       8668     724          NaN       NaN\n",
      "36  Sun, Nov 16       8988     710          NaN       NaN\n"
     ]
    }
   ],
   "source": [
    "print('                     control_tbl')\n",
    "print(control_tbl[control_tbl.Enrollments.isnull()],\"\\n\"*2)\n",
    "print('                     experiment_tbl')\n",
    "print(experiment_tbl[experiment_tbl.Enrollments.isnull()])"
   ]
  },
  {
   "cell_type": "markdown",
   "metadata": {},
   "source": [
    "We can see that there is no Enrollment information from Mon, Nov 3 on, which I believe would be removed in Objective 2: Machine Learning."
   ]
  },
  {
   "cell_type": "markdown",
   "metadata": {},
   "source": [
    "## Check for Data Format"
   ]
  },
  {
   "cell_type": "code",
   "execution_count": 10,
   "metadata": {},
   "outputs": [
    {
     "name": "stdout",
     "output_type": "stream",
     "text": [
      "     control_tbl\n",
      "Date            object\n",
      "Pageviews        int64\n",
      "Clicks           int64\n",
      "Enrollments    float64\n",
      "Payments       float64\n",
      "dtype: object \n",
      "\n",
      "\n",
      "     experiment_tbl\n",
      "Date            object\n",
      "Pageviews        int64\n",
      "Clicks           int64\n",
      "Enrollments    float64\n",
      "Payments       float64\n",
      "dtype: object\n"
     ]
    }
   ],
   "source": [
    "#Display the data-types of the two sets\n",
    "print('     control_tbl')\n",
    "print(control_tbl.dtypes,\"\\n\"*2)\n",
    "print('     experiment_tbl')\n",
    "print(experiment_tbl.dtypes)"
   ]
  },
  {
   "cell_type": "markdown",
   "metadata": {},
   "source": [
    "We can see that:\n",
    "Date is in object format. It doesn’t contain year information.\n",
    "Every other columns are all numeric (either integer or float)."
   ]
  },
  {
   "cell_type": "code",
   "execution_count": null,
   "metadata": {},
   "outputs": [],
   "source": []
  },
  {
   "cell_type": "markdown",
   "metadata": {},
   "source": [
    "## DATA VISUALIZATION\n",
    "### Scatter plot"
   ]
  },
  {
   "cell_type": "code",
   "execution_count": 11,
   "metadata": {},
   "outputs": [],
   "source": [
    "num_cols = ['Pageviews', 'Clicks', 'Enrollments', 'Payments']\n",
    "cat_cols = ['Date']"
   ]
  },
  {
   "cell_type": "code",
   "execution_count": 12,
   "metadata": {},
   "outputs": [
    {
     "data": {
      "image/png": "[encoded data removed]",
      "text/plain": [
       "<Figure size 864x432 with 1 Axes>"
      ]
     },
     "metadata": {
      "needs_background": "light"
     },
     "output_type": "display_data"
    }
   ],
   "source": [
    "for col in cat_cols:\n",
    "    fig = plt.figure(figsize=(12,6)) # define plot area\n",
    "    ax = fig.gca() # define axis  \n",
    "    \n",
    "    counts = control_tbl[col].value_counts() # find the counts for each unique category\n",
    "    counts.plot.bar(ax = ax) # Use the plot.bar method on the counts data frame\n",
    "    ax.set_title('Bar plot for control_tbl ' + col)"
   ]
  },
  {
   "cell_type": "code",
   "execution_count": 13,
   "metadata": {},
   "outputs": [
    {
     "data": {
      "image/png": "[encoded data removed]",
      "text/plain": [
       "<Figure size 432x432 with 1 Axes>"
      ]
     },
     "metadata": {
      "needs_background": "light"
     },
     "output_type": "display_data"
    },
    {
     "data": {
      "image/png": "[encoded data removed]",
      "text/plain": [
       "<Figure size 432x432 with 1 Axes>"
      ]
     },
     "metadata": {
      "needs_background": "light"
     },
     "output_type": "display_data"
    },
    {
     "data": {
      "image/png": "[encoded data removed]",
      "text/plain": [
       "<Figure size 432x432 with 1 Axes>"
      ]
     },
     "metadata": {
      "needs_background": "light"
     },
     "output_type": "display_data"
    },
    {
     "data": {
      "image/png": "[encoded data removed]",
      "text/plain": [
       "<Figure size 432x432 with 1 Axes>"
      ]
     },
     "metadata": {
      "needs_background": "light"
     },
     "output_type": "display_data"
    }
   ],
   "source": [
    "for col in num_cols:\n",
    "    fig = plt.figure(figsize=(6,6)) # define plot area\n",
    "    ax = fig.gca() # define axis  \n",
    "\n",
    "    control_tbl.plot.scatter(x = col, y = 'Enrollments', ax = ax)\n"
   ]
  },
  {
   "cell_type": "code",
   "execution_count": 14,
   "metadata": {},
   "outputs": [
    {
     "data": {
      "text/plain": [
       "<matplotlib.axes._subplots.AxesSubplot at 0x28df4679828>"
      ]
     },
     "execution_count": 14,
     "metadata": {},
     "output_type": "execute_result"
    },
    {
     "data": {
      "image/png": "[encoded data removed]",
      "text/plain": [
       "<Figure size 360x288 with 2 Axes>"
      ]
     },
     "metadata": {
      "needs_background": "light"
     },
     "output_type": "display_data"
    },
    {
     "data": {
      "image/png": "[encoded data removed]",
      "text/plain": [
       "<Figure size 360x288 with 2 Axes>"
      ]
     },
     "metadata": {
      "needs_background": "light"
     },
     "output_type": "display_data"
    }
   ],
   "source": [
    "#CORRELATION MATRIX AMONG FEATURES\n",
    "corrmat = control_tbl.corr()\n",
    "f,ax = plt.subplots(figsize=(5,4))\n",
    "sns.heatmap(corrmat, square=True)\n",
    "\n",
    "corrmat = experiment_tbl.corr()\n",
    "f,ax = plt.subplots(figsize=(5,4))\n",
    "sns.heatmap(corrmat, square=True)"
   ]
  },
  {
   "cell_type": "markdown",
   "metadata": {},
   "source": [
    "We can see from the above CORRELATION MATRIX AMONG FEATURES, that there is a high correlation between Pageviews and Clicks, followed by Enrollments and Payment, followed by Pageviews and Enrollments."
   ]
  },
  {
   "cell_type": "code",
   "execution_count": null,
   "metadata": {},
   "outputs": [],
   "source": []
  },
  {
   "cell_type": "code",
   "execution_count": null,
   "metadata": {},
   "outputs": [],
   "source": []
  },
  {
   "cell_type": "markdown",
   "metadata": {},
   "source": [
    "# Solution 2: Machine Learning"
   ]
  },
  {
   "cell_type": "code",
   "execution_count": null,
   "metadata": {},
   "outputs": [],
   "source": []
  },
  {
   "cell_type": "code",
   "execution_count": 15,
   "metadata": {},
   "outputs": [],
   "source": [
    "# Combine Control and Experiment data\n",
    "experiment_tbl[\"id_experiment\"] = experiment_tbl.index[1]\n",
    "control_tbl[\"id_experiment\"] = control_tbl.index[0]\n",
    "\n",
    "data_combined_tbl = pd.concat([control_tbl,experiment_tbl])"
   ]
  },
  {
   "cell_type": "code",
   "execution_count": 16,
   "metadata": {},
   "outputs": [
    {
     "data": {
      "text/html": [
       "<div>\n",
       "<style scoped>\n",
       "    .dataframe tbody tr th:only-of-type {\n",
       "        vertical-align: middle;\n",
       "    }\n",
       "\n",
       "    .dataframe tbody tr th {\n",
       "        vertical-align: top;\n",
       "    }\n",
       "\n",
       "    .dataframe thead th {\n",
       "        text-align: right;\n",
       "    }\n",
       "</style>\n",
       "<table border=\"1\" class=\"dataframe\">\n",
       "  <thead>\n",
       "    <tr style=\"text-align: right;\">\n",
       "      <th></th>\n",
       "      <th>Date</th>\n",
       "      <th>Pageviews</th>\n",
       "      <th>Clicks</th>\n",
       "      <th>Enrollments</th>\n",
       "      <th>Payments</th>\n",
       "      <th>id_experiment</th>\n",
       "    </tr>\n",
       "  </thead>\n",
       "  <tbody>\n",
       "    <tr>\n",
       "      <th>0</th>\n",
       "      <td>Sat, Oct 11</td>\n",
       "      <td>7723</td>\n",
       "      <td>687</td>\n",
       "      <td>134.0</td>\n",
       "      <td>70.0</td>\n",
       "      <td>0</td>\n",
       "    </tr>\n",
       "    <tr>\n",
       "      <th>1</th>\n",
       "      <td>Sun, Oct 12</td>\n",
       "      <td>9102</td>\n",
       "      <td>779</td>\n",
       "      <td>147.0</td>\n",
       "      <td>70.0</td>\n",
       "      <td>0</td>\n",
       "    </tr>\n",
       "    <tr>\n",
       "      <th>2</th>\n",
       "      <td>Mon, Oct 13</td>\n",
       "      <td>10511</td>\n",
       "      <td>909</td>\n",
       "      <td>167.0</td>\n",
       "      <td>95.0</td>\n",
       "      <td>0</td>\n",
       "    </tr>\n",
       "  </tbody>\n",
       "</table>\n",
       "</div>"
      ],
      "text/plain": [
       "          Date  Pageviews  Clicks  Enrollments  Payments  id_experiment\n",
       "0  Sat, Oct 11       7723     687        134.0      70.0              0\n",
       "1  Sun, Oct 12       9102     779        147.0      70.0              0\n",
       "2  Mon, Oct 13      10511     909        167.0      95.0              0"
      ]
     },
     "execution_count": 16,
     "metadata": {},
     "output_type": "execute_result"
    }
   ],
   "source": [
    "#Removing Rows with NAN\n",
    "data_combined_tbl = data_combined_tbl[np.isfinite(data_combined_tbl['Enrollments'])]\n",
    "\n",
    "data_combined_tbl.head(3)"
   ]
  },
  {
   "cell_type": "code",
   "execution_count": 17,
   "metadata": {},
   "outputs": [
    {
     "data": {
      "text/plain": [
       "(46, 6)"
      ]
     },
     "execution_count": 17,
     "metadata": {},
     "output_type": "execute_result"
    }
   ],
   "source": [
    "data_combined_tbl.shape"
   ]
  },
  {
   "cell_type": "code",
   "execution_count": 18,
   "metadata": {},
   "outputs": [],
   "source": [
    "Dates = data_combined_tbl['Date']\n",
    "#print (Dates)"
   ]
  },
  {
   "cell_type": "code",
   "execution_count": 19,
   "metadata": {},
   "outputs": [
    {
     "data": {
      "text/html": [
       "<div>\n",
       "<style scoped>\n",
       "    .dataframe tbody tr th:only-of-type {\n",
       "        vertical-align: middle;\n",
       "    }\n",
       "\n",
       "    .dataframe tbody tr th {\n",
       "        vertical-align: top;\n",
       "    }\n",
       "\n",
       "    .dataframe thead th {\n",
       "        text-align: right;\n",
       "    }\n",
       "</style>\n",
       "<table border=\"1\" class=\"dataframe\">\n",
       "  <thead>\n",
       "    <tr style=\"text-align: right;\">\n",
       "      <th></th>\n",
       "      <th>Pageviews</th>\n",
       "      <th>Clicks</th>\n",
       "      <th>Enrollments</th>\n",
       "      <th>id_experiment</th>\n",
       "    </tr>\n",
       "  </thead>\n",
       "  <tbody>\n",
       "    <tr>\n",
       "      <th>0</th>\n",
       "      <td>7723</td>\n",
       "      <td>687</td>\n",
       "      <td>134.0</td>\n",
       "      <td>0</td>\n",
       "    </tr>\n",
       "    <tr>\n",
       "      <th>1</th>\n",
       "      <td>9102</td>\n",
       "      <td>779</td>\n",
       "      <td>147.0</td>\n",
       "      <td>0</td>\n",
       "    </tr>\n",
       "    <tr>\n",
       "      <th>2</th>\n",
       "      <td>10511</td>\n",
       "      <td>909</td>\n",
       "      <td>167.0</td>\n",
       "      <td>0</td>\n",
       "    </tr>\n",
       "  </tbody>\n",
       "</table>\n",
       "</div>"
      ],
      "text/plain": [
       "   Pageviews  Clicks  Enrollments  id_experiment\n",
       "0       7723     687        134.0              0\n",
       "1       9102     779        147.0              0\n",
       "2      10511     909        167.0              0"
      ]
     },
     "execution_count": 19,
     "metadata": {},
     "output_type": "execute_result"
    }
   ],
   "source": [
    "#drop date and payment\n",
    "data_combined_tbl.drop(['Date','Payments'], axis=1, inplace=True)\n",
    "data_combined_tbl.head(3)"
   ]
  },
  {
   "cell_type": "code",
   "execution_count": null,
   "metadata": {},
   "outputs": [],
   "source": []
  },
  {
   "cell_type": "code",
   "execution_count": 20,
   "metadata": {},
   "outputs": [
    {
     "data": {
      "text/html": [
       "<div>\n",
       "<style scoped>\n",
       "    .dataframe tbody tr th:only-of-type {\n",
       "        vertical-align: middle;\n",
       "    }\n",
       "\n",
       "    .dataframe tbody tr th {\n",
       "        vertical-align: top;\n",
       "    }\n",
       "\n",
       "    .dataframe thead th {\n",
       "        text-align: right;\n",
       "    }\n",
       "</style>\n",
       "<table border=\"1\" class=\"dataframe\">\n",
       "  <thead>\n",
       "    <tr style=\"text-align: right;\">\n",
       "      <th></th>\n",
       "      <th>Pageviews</th>\n",
       "      <th>Clicks</th>\n",
       "      <th>Enrollments</th>\n",
       "      <th>id_experiment</th>\n",
       "      <th>row_id</th>\n",
       "    </tr>\n",
       "  </thead>\n",
       "  <tbody>\n",
       "    <tr>\n",
       "      <th>0</th>\n",
       "      <td>7723</td>\n",
       "      <td>687</td>\n",
       "      <td>134.0</td>\n",
       "      <td>0</td>\n",
       "      <td>1</td>\n",
       "    </tr>\n",
       "    <tr>\n",
       "      <th>1</th>\n",
       "      <td>9102</td>\n",
       "      <td>779</td>\n",
       "      <td>147.0</td>\n",
       "      <td>0</td>\n",
       "      <td>2</td>\n",
       "    </tr>\n",
       "    <tr>\n",
       "      <th>2</th>\n",
       "      <td>10511</td>\n",
       "      <td>909</td>\n",
       "      <td>167.0</td>\n",
       "      <td>0</td>\n",
       "      <td>3</td>\n",
       "    </tr>\n",
       "    <tr>\n",
       "      <th>3</th>\n",
       "      <td>9871</td>\n",
       "      <td>836</td>\n",
       "      <td>156.0</td>\n",
       "      <td>0</td>\n",
       "      <td>4</td>\n",
       "    </tr>\n",
       "    <tr>\n",
       "      <th>4</th>\n",
       "      <td>10014</td>\n",
       "      <td>837</td>\n",
       "      <td>163.0</td>\n",
       "      <td>0</td>\n",
       "      <td>5</td>\n",
       "    </tr>\n",
       "  </tbody>\n",
       "</table>\n",
       "</div>"
      ],
      "text/plain": [
       "   Pageviews  Clicks  Enrollments  id_experiment  row_id\n",
       "0       7723     687        134.0              0       1\n",
       "1       9102     779        147.0              0       2\n",
       "2      10511     909        167.0              0       3\n",
       "3       9871     836        156.0              0       4\n",
       "4      10014     837        163.0              0       5"
      ]
     },
     "execution_count": 20,
     "metadata": {},
     "output_type": "execute_result"
    }
   ],
   "source": [
    "# Adding row id\n",
    "data_combined_tbl = data_combined_tbl.reset_index(drop=True)\n",
    "data_combined_tbl[\"row_id\"] = data_combined_tbl.index+1\n",
    "\n",
    "data_combined_tbl.head(5)"
   ]
  },
  {
   "cell_type": "code",
   "execution_count": 21,
   "metadata": {},
   "outputs": [
    {
     "data": {
      "text/html": [
       "<div>\n",
       "<style scoped>\n",
       "    .dataframe tbody tr th:only-of-type {\n",
       "        vertical-align: middle;\n",
       "    }\n",
       "\n",
       "    .dataframe tbody tr th {\n",
       "        vertical-align: top;\n",
       "    }\n",
       "\n",
       "    .dataframe thead th {\n",
       "        text-align: right;\n",
       "    }\n",
       "</style>\n",
       "<table border=\"1\" class=\"dataframe\">\n",
       "  <thead>\n",
       "    <tr style=\"text-align: right;\">\n",
       "      <th></th>\n",
       "      <th>Pageviews</th>\n",
       "      <th>Clicks</th>\n",
       "      <th>Enrollments</th>\n",
       "      <th>id_experiment</th>\n",
       "      <th>row_id</th>\n",
       "      <th>Day_of_Week</th>\n",
       "    </tr>\n",
       "  </thead>\n",
       "  <tbody>\n",
       "    <tr>\n",
       "      <th>0</th>\n",
       "      <td>7723</td>\n",
       "      <td>687</td>\n",
       "      <td>134.0</td>\n",
       "      <td>0</td>\n",
       "      <td>1</td>\n",
       "      <td>Sat</td>\n",
       "    </tr>\n",
       "    <tr>\n",
       "      <th>1</th>\n",
       "      <td>9102</td>\n",
       "      <td>779</td>\n",
       "      <td>147.0</td>\n",
       "      <td>0</td>\n",
       "      <td>2</td>\n",
       "      <td>Sun</td>\n",
       "    </tr>\n",
       "    <tr>\n",
       "      <th>2</th>\n",
       "      <td>10511</td>\n",
       "      <td>909</td>\n",
       "      <td>167.0</td>\n",
       "      <td>0</td>\n",
       "      <td>3</td>\n",
       "      <td>Mon</td>\n",
       "    </tr>\n",
       "  </tbody>\n",
       "</table>\n",
       "</div>"
      ],
      "text/plain": [
       "   Pageviews  Clicks  Enrollments  id_experiment  row_id Day_of_Week\n",
       "0       7723     687        134.0              0       1         Sat\n",
       "1       9102     779        147.0              0       2         Sun\n",
       "2      10511     909        167.0              0       3         Mon"
      ]
     },
     "execution_count": 21,
     "metadata": {},
     "output_type": "execute_result"
    }
   ],
   "source": [
    "# Create a Day of Week feature\n",
    "DOW =[]\n",
    "for datex in Dates:\n",
    "    DOW.append(datex[0:3])\n",
    "#print(DOW)\n",
    "\n",
    "data_combined_tbl[\"Day_of_Week\"] = pd.Series(DOW)\n",
    "data_combined_tbl.head(3)\n",
    "#data_combined_tbl.shape"
   ]
  },
  {
   "cell_type": "code",
   "execution_count": null,
   "metadata": {},
   "outputs": [],
   "source": []
  },
  {
   "cell_type": "markdown",
   "metadata": {},
   "source": [
    "### HANDLING CATEGORICAL FEATURES"
   ]
  },
  {
   "cell_type": "markdown",
   "metadata": {},
   "source": [
    "Now, looking at our features, the categorical column is the \"Day_of_Week\" with (7) as the highest number of class. In this case we can use the one-hot-encoding scheme since our data is small (approx 46) and the unique category is just one.\n",
    "\n",
    "Use the pandas get_dummies function when working smaller categories__"
   ]
  },
  {
   "cell_type": "code",
   "execution_count": 22,
   "metadata": {},
   "outputs": [
    {
     "data": {
      "text/html": [
       "<div>\n",
       "<style scoped>\n",
       "    .dataframe tbody tr th:only-of-type {\n",
       "        vertical-align: middle;\n",
       "    }\n",
       "\n",
       "    .dataframe tbody tr th {\n",
       "        vertical-align: top;\n",
       "    }\n",
       "\n",
       "    .dataframe thead th {\n",
       "        text-align: right;\n",
       "    }\n",
       "</style>\n",
       "<table border=\"1\" class=\"dataframe\">\n",
       "  <thead>\n",
       "    <tr style=\"text-align: right;\">\n",
       "      <th></th>\n",
       "      <th>Pageviews</th>\n",
       "      <th>Clicks</th>\n",
       "      <th>Enrollments</th>\n",
       "      <th>id_experiment</th>\n",
       "      <th>row_id</th>\n",
       "      <th>Day_of_Week_Fri</th>\n",
       "      <th>Day_of_Week_Mon</th>\n",
       "      <th>Day_of_Week_Sat</th>\n",
       "      <th>Day_of_Week_Sun</th>\n",
       "      <th>Day_of_Week_Thu</th>\n",
       "      <th>Day_of_Week_Tue</th>\n",
       "      <th>Day_of_Week_Wed</th>\n",
       "    </tr>\n",
       "  </thead>\n",
       "  <tbody>\n",
       "    <tr>\n",
       "      <th>0</th>\n",
       "      <td>7723</td>\n",
       "      <td>687</td>\n",
       "      <td>134.0</td>\n",
       "      <td>0</td>\n",
       "      <td>1</td>\n",
       "      <td>0</td>\n",
       "      <td>0</td>\n",
       "      <td>1</td>\n",
       "      <td>0</td>\n",
       "      <td>0</td>\n",
       "      <td>0</td>\n",
       "      <td>0</td>\n",
       "    </tr>\n",
       "    <tr>\n",
       "      <th>1</th>\n",
       "      <td>9102</td>\n",
       "      <td>779</td>\n",
       "      <td>147.0</td>\n",
       "      <td>0</td>\n",
       "      <td>2</td>\n",
       "      <td>0</td>\n",
       "      <td>0</td>\n",
       "      <td>0</td>\n",
       "      <td>1</td>\n",
       "      <td>0</td>\n",
       "      <td>0</td>\n",
       "      <td>0</td>\n",
       "    </tr>\n",
       "    <tr>\n",
       "      <th>2</th>\n",
       "      <td>10511</td>\n",
       "      <td>909</td>\n",
       "      <td>167.0</td>\n",
       "      <td>0</td>\n",
       "      <td>3</td>\n",
       "      <td>0</td>\n",
       "      <td>1</td>\n",
       "      <td>0</td>\n",
       "      <td>0</td>\n",
       "      <td>0</td>\n",
       "      <td>0</td>\n",
       "      <td>0</td>\n",
       "    </tr>\n",
       "    <tr>\n",
       "      <th>3</th>\n",
       "      <td>9871</td>\n",
       "      <td>836</td>\n",
       "      <td>156.0</td>\n",
       "      <td>0</td>\n",
       "      <td>4</td>\n",
       "      <td>0</td>\n",
       "      <td>0</td>\n",
       "      <td>0</td>\n",
       "      <td>0</td>\n",
       "      <td>0</td>\n",
       "      <td>1</td>\n",
       "      <td>0</td>\n",
       "    </tr>\n",
       "    <tr>\n",
       "      <th>4</th>\n",
       "      <td>10014</td>\n",
       "      <td>837</td>\n",
       "      <td>163.0</td>\n",
       "      <td>0</td>\n",
       "      <td>5</td>\n",
       "      <td>0</td>\n",
       "      <td>0</td>\n",
       "      <td>0</td>\n",
       "      <td>0</td>\n",
       "      <td>0</td>\n",
       "      <td>0</td>\n",
       "      <td>1</td>\n",
       "    </tr>\n",
       "  </tbody>\n",
       "</table>\n",
       "</div>"
      ],
      "text/plain": [
       "   Pageviews  Clicks  Enrollments  id_experiment  row_id  Day_of_Week_Fri  \\\n",
       "0       7723     687        134.0              0       1                0   \n",
       "1       9102     779        147.0              0       2                0   \n",
       "2      10511     909        167.0              0       3                0   \n",
       "3       9871     836        156.0              0       4                0   \n",
       "4      10014     837        163.0              0       5                0   \n",
       "\n",
       "   Day_of_Week_Mon  Day_of_Week_Sat  Day_of_Week_Sun  Day_of_Week_Thu  \\\n",
       "0                0                1                0                0   \n",
       "1                0                0                1                0   \n",
       "2                1                0                0                0   \n",
       "3                0                0                0                0   \n",
       "4                0                0                0                0   \n",
       "\n",
       "   Day_of_Week_Tue  Day_of_Week_Wed  \n",
       "0                0                0  \n",
       "1                0                0  \n",
       "2                0                0  \n",
       "3                1                0  \n",
       "4                0                1  "
      ]
     },
     "execution_count": 22,
     "metadata": {},
     "output_type": "execute_result"
    }
   ],
   "source": [
    "#one hot encode using pandas dummy function\n",
    "dummified_data = pd.get_dummies(data_combined_tbl)\n",
    "dummified_data.head()"
   ]
  },
  {
   "cell_type": "code",
   "execution_count": 23,
   "metadata": {},
   "outputs": [
    {
     "data": {
      "text/html": [
       "<div>\n",
       "<style scoped>\n",
       "    .dataframe tbody tr th:only-of-type {\n",
       "        vertical-align: middle;\n",
       "    }\n",
       "\n",
       "    .dataframe tbody tr th {\n",
       "        vertical-align: top;\n",
       "    }\n",
       "\n",
       "    .dataframe thead th {\n",
       "        text-align: right;\n",
       "    }\n",
       "</style>\n",
       "<table border=\"1\" class=\"dataframe\">\n",
       "  <thead>\n",
       "    <tr style=\"text-align: right;\">\n",
       "      <th></th>\n",
       "      <th>Pageviews</th>\n",
       "      <th>Clicks</th>\n",
       "      <th>Enrollments</th>\n",
       "      <th>id_experiment</th>\n",
       "      <th>row_id</th>\n",
       "      <th>Day_of_Week_Fri</th>\n",
       "      <th>Day_of_Week_Mon</th>\n",
       "      <th>Day_of_Week_Sat</th>\n",
       "      <th>Day_of_Week_Sun</th>\n",
       "      <th>Day_of_Week_Thu</th>\n",
       "      <th>Day_of_Week_Tue</th>\n",
       "      <th>Day_of_Week_Wed</th>\n",
       "    </tr>\n",
       "  </thead>\n",
       "  <tbody>\n",
       "    <tr>\n",
       "      <th>42</th>\n",
       "      <td>9308</td>\n",
       "      <td>728</td>\n",
       "      <td>207.0</td>\n",
       "      <td>1</td>\n",
       "      <td>43</td>\n",
       "      <td>0</td>\n",
       "      <td>0</td>\n",
       "      <td>0</td>\n",
       "      <td>0</td>\n",
       "      <td>1</td>\n",
       "      <td>0</td>\n",
       "      <td>0</td>\n",
       "    </tr>\n",
       "    <tr>\n",
       "      <th>16</th>\n",
       "      <td>9535</td>\n",
       "      <td>759</td>\n",
       "      <td>233.0</td>\n",
       "      <td>0</td>\n",
       "      <td>17</td>\n",
       "      <td>0</td>\n",
       "      <td>1</td>\n",
       "      <td>0</td>\n",
       "      <td>0</td>\n",
       "      <td>0</td>\n",
       "      <td>0</td>\n",
       "      <td>0</td>\n",
       "    </tr>\n",
       "    <tr>\n",
       "      <th>39</th>\n",
       "      <td>9655</td>\n",
       "      <td>771</td>\n",
       "      <td>213.0</td>\n",
       "      <td>1</td>\n",
       "      <td>40</td>\n",
       "      <td>0</td>\n",
       "      <td>1</td>\n",
       "      <td>0</td>\n",
       "      <td>0</td>\n",
       "      <td>0</td>\n",
       "      <td>0</td>\n",
       "      <td>0</td>\n",
       "    </tr>\n",
       "  </tbody>\n",
       "</table>\n",
       "</div>"
      ],
      "text/plain": [
       "    Pageviews  Clicks  Enrollments  id_experiment  row_id  Day_of_Week_Fri  \\\n",
       "42       9308     728        207.0              1      43                0   \n",
       "16       9535     759        233.0              0      17                0   \n",
       "39       9655     771        213.0              1      40                0   \n",
       "\n",
       "    Day_of_Week_Mon  Day_of_Week_Sat  Day_of_Week_Sun  Day_of_Week_Thu  \\\n",
       "42                0                0                0                1   \n",
       "16                1                0                0                0   \n",
       "39                1                0                0                0   \n",
       "\n",
       "    Day_of_Week_Tue  Day_of_Week_Wed  \n",
       "42                0                0  \n",
       "16                0                0  \n",
       "39                0                0  "
      ]
     },
     "execution_count": 23,
     "metadata": {},
     "output_type": "execute_result"
    }
   ],
   "source": [
    "#Shuffle the rows to mix the data up for learning\n",
    "data_shuffled_tbl = dummified_data.reindex(np.random.permutation(dummified_data.index))\n",
    "data_shuffled_tbl.head(3)"
   ]
  },
  {
   "cell_type": "code",
   "execution_count": 24,
   "metadata": {},
   "outputs": [],
   "source": [
    "data_shuffled_tbl_copy = data_shuffled_tbl"
   ]
  },
  {
   "cell_type": "code",
   "execution_count": 25,
   "metadata": {},
   "outputs": [
    {
     "data": {
      "text/plain": [
       "<matplotlib.axes._subplots.AxesSubplot at 0x28df4667898>"
      ]
     },
     "execution_count": 25,
     "metadata": {},
     "output_type": "execute_result"
    },
    {
     "data": {
      "image/png": "[encoded data removed]",
      "text/plain": [
       "<Figure size 576x432 with 2 Axes>"
      ]
     },
     "metadata": {
      "needs_background": "light"
     },
     "output_type": "display_data"
    }
   ],
   "source": [
    "#CORRELATION MATRIX AMONG FEATURES\n",
    "corrmat = data_shuffled_tbl_copy.corr()\n",
    "f,ax = plt.subplots(figsize=(8,6))\n",
    "sns.heatmap(corrmat, square=True)"
   ]
  },
  {
   "cell_type": "code",
   "execution_count": 26,
   "metadata": {},
   "outputs": [],
   "source": [
    "#save the target value to a new variable\n",
    "y_target = data_shuffled_tbl['Enrollments']\n",
    "data_shuffled_tbl.drop(['Enrollments',\"row_id\"], axis=1, inplace=True) # I drop the “row_id” field from the data since \n",
    "# this is a unique ID that will not help the model."
   ]
  },
  {
   "cell_type": "code",
   "execution_count": null,
   "metadata": {},
   "outputs": [],
   "source": []
  },
  {
   "cell_type": "markdown",
   "metadata": {},
   "source": [
    "## Training and Testing Sets"
   ]
  },
  {
   "cell_type": "markdown",
   "metadata": {},
   "source": [
    "### SPLIT OUR DATA INTO TRAIN AND TEST SETS\n",
    "Now that the data is formatted properly for analysis, We can now separate into training and testing sets using an 80% / 20% ratio. We can use the train_test_split() function from sklearn.model_selection to create a split object, then extracting the training() and testing() sets."
   ]
  },
  {
   "cell_type": "code",
   "execution_count": 27,
   "metadata": {},
   "outputs": [
    {
     "name": "stdout",
     "output_type": "stream",
     "text": [
      "Training data is (36, 10)\n",
      "Training target is (36,)\n",
      "test data is (10, 10)\n",
      "test target is (10,)\n"
     ]
    }
   ],
   "source": [
    "from sklearn.model_selection import train_test_split\n",
    "\n",
    "X_train, X_test, y_train, y_test = train_test_split(data_shuffled_tbl, y_target, test_size = 0.2)\n",
    "\n",
    "print(\"Training data is\", X_train.shape)\n",
    "print(\"Training target is\", y_train.shape)\n",
    "print(\"test data is\", X_test.shape)\n",
    "print(\"test target is\", y_test.shape)"
   ]
  },
  {
   "cell_type": "code",
   "execution_count": 28,
   "metadata": {},
   "outputs": [
    {
     "data": {
      "text/html": [
       "<div>\n",
       "<style scoped>\n",
       "    .dataframe tbody tr th:only-of-type {\n",
       "        vertical-align: middle;\n",
       "    }\n",
       "\n",
       "    .dataframe tbody tr th {\n",
       "        vertical-align: top;\n",
       "    }\n",
       "\n",
       "    .dataframe thead th {\n",
       "        text-align: right;\n",
       "    }\n",
       "</style>\n",
       "<table border=\"1\" class=\"dataframe\">\n",
       "  <thead>\n",
       "    <tr style=\"text-align: right;\">\n",
       "      <th></th>\n",
       "      <th>Pageviews</th>\n",
       "      <th>Clicks</th>\n",
       "      <th>id_experiment</th>\n",
       "      <th>Day_of_Week_Fri</th>\n",
       "      <th>Day_of_Week_Mon</th>\n",
       "      <th>Day_of_Week_Sat</th>\n",
       "      <th>Day_of_Week_Sun</th>\n",
       "      <th>Day_of_Week_Thu</th>\n",
       "      <th>Day_of_Week_Tue</th>\n",
       "      <th>Day_of_Week_Wed</th>\n",
       "    </tr>\n",
       "  </thead>\n",
       "  <tbody>\n",
       "    <tr>\n",
       "      <th>23</th>\n",
       "      <td>7716</td>\n",
       "      <td>686</td>\n",
       "      <td>1</td>\n",
       "      <td>0</td>\n",
       "      <td>0</td>\n",
       "      <td>1</td>\n",
       "      <td>0</td>\n",
       "      <td>0</td>\n",
       "      <td>0</td>\n",
       "      <td>0</td>\n",
       "    </tr>\n",
       "    <tr>\n",
       "      <th>0</th>\n",
       "      <td>7723</td>\n",
       "      <td>687</td>\n",
       "      <td>0</td>\n",
       "      <td>0</td>\n",
       "      <td>0</td>\n",
       "      <td>1</td>\n",
       "      <td>0</td>\n",
       "      <td>0</td>\n",
       "      <td>0</td>\n",
       "      <td>0</td>\n",
       "    </tr>\n",
       "    <tr>\n",
       "      <th>19</th>\n",
       "      <td>9345</td>\n",
       "      <td>734</td>\n",
       "      <td>0</td>\n",
       "      <td>0</td>\n",
       "      <td>0</td>\n",
       "      <td>0</td>\n",
       "      <td>0</td>\n",
       "      <td>1</td>\n",
       "      <td>0</td>\n",
       "      <td>0</td>\n",
       "    </tr>\n",
       "  </tbody>\n",
       "</table>\n",
       "</div>"
      ],
      "text/plain": [
       "    Pageviews  Clicks  id_experiment  Day_of_Week_Fri  Day_of_Week_Mon  \\\n",
       "23       7716     686              1                0                0   \n",
       "0        7723     687              0                0                0   \n",
       "19       9345     734              0                0                0   \n",
       "\n",
       "    Day_of_Week_Sat  Day_of_Week_Sun  Day_of_Week_Thu  Day_of_Week_Tue  \\\n",
       "23                1                0                0                0   \n",
       "0                 1                0                0                0   \n",
       "19                0                0                1                0   \n",
       "\n",
       "    Day_of_Week_Wed  \n",
       "23                0  \n",
       "0                 0  \n",
       "19                0  "
      ]
     },
     "execution_count": 28,
     "metadata": {},
     "output_type": "execute_result"
    }
   ],
   "source": [
    "X_train.head(3)"
   ]
  },
  {
   "cell_type": "markdown",
   "metadata": {},
   "source": [
    "### PERFORM FEATURE NORMALIZATION/ SCALING"
   ]
  },
  {
   "cell_type": "code",
   "execution_count": 29,
   "metadata": {},
   "outputs": [
    {
     "data": {
      "text/plain": [
       "array([[-1.19141853, -0.30236794,  0.        ,  0.        ,  0.        ],\n",
       "       [-1.18624006, -0.29508197, -1.        ,  0.        ,  0.        ],\n",
       "       [ 0.01368596,  0.04735883, -1.        ,  0.        ,  0.        ],\n",
       "       [-0.74163122, -0.45537341, -1.        ,  0.        ,  0.        ],\n",
       "       [ 0.98649898,  1.01639344, -1.        ,  0.        ,  0.        ]])"
      ]
     },
     "execution_count": 29,
     "metadata": {},
     "output_type": "execute_result"
    }
   ],
   "source": [
    "from sklearn.preprocessing import RobustScaler, StandardScaler #Import scaler\n",
    "scaler = RobustScaler() #create an object from RobustScaler\n",
    "\n",
    "scaler.fit(X_train) #Fit to the train data only!\n",
    "\n",
    "#Perform the transformation on train and test data\n",
    "X_train = scaler.transform(X_train) \n",
    "X_test = scaler.transform(X_test)\n",
    "\n",
    "X_train[:5, :5] #Preview the first five rows and columns of train data"
   ]
  },
  {
   "cell_type": "code",
   "execution_count": null,
   "metadata": {},
   "outputs": [],
   "source": []
  },
  {
   "cell_type": "markdown",
   "metadata": {},
   "source": [
    "### Implement Machine Learning Algorithms"
   ]
  },
  {
   "cell_type": "markdown",
   "metadata": {},
   "source": [
    "We'll train a machine learning model using 5-fold cross validation on the following 3 different algorithms:\n",
    "    1.Linear Regression\n",
    "    2.Decision Tree\n",
    "    3.XGBoost"
   ]
  },
  {
   "cell_type": "code",
   "execution_count": 30,
   "metadata": {},
   "outputs": [],
   "source": [
    " from sklearn.metrics import mean_absolute_error\n",
    "from sklearn.model_selection import KFold, cross_val_score\n",
    "\n",
    "\n",
    "def cross_validate(model, nfolds, feats, targets):\n",
    "    score = -1 * (cross_val_score(model, feats, targets, cv=nfolds, scoring='neg_mean_absolute_error'))\n",
    "    return np.mean(score)"
   ]
  },
  {
   "cell_type": "markdown",
   "metadata": {},
   "source": [
    "### START WITH A LINEAR REGRESSION\n",
    "\n",
    "We start our modelling with a simple linear regression, cross validate, predict and print its score."
   ]
  },
  {
   "cell_type": "code",
   "execution_count": 31,
   "metadata": {},
   "outputs": [
    {
     "name": "stdout",
     "output_type": "stream",
     "text": [
      "MAE Sccore:  22.592112344140894\n"
     ]
    }
   ],
   "source": [
    "from sklearn.linear_model import LinearRegression \n",
    "from sklearn import metrics\n",
    "\n",
    "lr_model = LinearRegression() #The linear tregression model\n",
    "lr_model.fit(X_train, y_train) #training the algorithm\n",
    "print(\"MAE Sccore: \", cross_validate(lr_model, 10, X_train, y_train))\n",
    "\n",
    "#predict the test data\n",
    "y_pred = lr_model.predict(X_test)"
   ]
  },
  {
   "cell_type": "code",
   "execution_count": 32,
   "metadata": {},
   "outputs": [
    {
     "name": "stdout",
     "output_type": "stream",
     "text": [
      "Linear Regression Metrics Perfoemance:\n",
      "\n",
      "Mean Absolute Error (MAE):  22.788531428732167\n",
      "Mean Squared Error (MSE):  802.7886176713307\n",
      "Root Mean Square Error (RMSE):  28.333524624926753\n"
     ]
    }
   ],
   "source": [
    "# The Final step is to evaluate the performance of the algorithm. \n",
    "# We'll do this by finding the values for the Mean Squared Error (MSE), \n",
    "# Mean Absolute Error (MAE), Root Mean Square Error (RMSE).\n",
    "\n",
    "print(\"Linear Regression Metrics Perfoemance:\" \"\\n\")\n",
    "print(\"Mean Absolute Error (MAE): \", metrics.mean_absolute_error(y_test, y_pred))\n",
    "print(\"Mean Squared Error (MSE): \", metrics.mean_squared_error(y_test, y_pred))\n",
    "print(\"Root Mean Square Error (RMSE): \", np.sqrt(metrics.mean_squared_error(y_test, y_pred)))"
   ]
  },
  {
   "cell_type": "code",
   "execution_count": 33,
   "metadata": {},
   "outputs": [
    {
     "data": {
      "text/plain": [
       "Text(0, 0.5, 'Observation')"
      ]
     },
     "execution_count": 33,
     "metadata": {},
     "output_type": "execute_result"
    },
    {
     "data": {
      "image/png": "[encoded data removed]",
      "text/plain": [
       "<Figure size 432x288 with 1 Axes>"
      ]
     },
     "metadata": {
      "needs_background": "light"
     },
     "output_type": "display_data"
    }
   ],
   "source": [
    "#Graph showing the Prediction Error\n",
    "diff = y_test - y_pred\n",
    "diff.hist(bins=40)\n",
    "plt.title('Histogram of Prediction errors')\n",
    "plt.xlabel('Prediction error')\n",
    "plt.ylabel('Observation')"
   ]
  },
  {
   "cell_type": "code",
   "execution_count": null,
   "metadata": {},
   "outputs": [],
   "source": []
  },
  {
   "cell_type": "markdown",
   "metadata": {},
   "source": [
    "### USING A DECISION TREE"
   ]
  },
  {
   "cell_type": "code",
   "execution_count": 34,
   "metadata": {},
   "outputs": [
    {
     "name": "stdout",
     "output_type": "stream",
     "text": [
      "MAE Sccore:  15.8125\n"
     ]
    }
   ],
   "source": [
    "from sklearn.tree import DecisionTreeRegressor\n",
    "\n",
    "dt_model = DecisionTreeRegressor(max_depth=6, min_samples_leaf=2, random_state=2)\n",
    "dt_model.fit(X_train, y_train) #training the algorithm\n",
    "print(\"MAE Sccore: \", cross_validate(dt_model, 10, X_train, y_train))\n",
    "\n",
    "#predict the test data\n",
    "y_pred = dt_model.predict(X_test)"
   ]
  },
  {
   "cell_type": "code",
   "execution_count": 35,
   "metadata": {},
   "outputs": [
    {
     "name": "stdout",
     "output_type": "stream",
     "text": [
      "DecisionTree Metrics Perfoemance:\n",
      "\n",
      "Mean Absolute Error (MAE):  23.266666666666673\n",
      "Mean Squared Error (MSE):  717.238888888889\n",
      "Root Mean Square Error (RMSE):  26.78131604101802\n"
     ]
    }
   ],
   "source": [
    "# The Final step is to evaluate the performance of the algorithm. \n",
    "# We'll do this by finding the values for the Mean Squared Error (MSE), \n",
    "# Mean Absolute Error (MAE), Root Mean Square Error (RMSE).\n",
    "\n",
    "print(\"DecisionTree Metrics Perfoemance:\" \"\\n\")\n",
    "print(\"Mean Absolute Error (MAE): \", metrics.mean_absolute_error(y_test, y_pred))\n",
    "print(\"Mean Squared Error (MSE): \", metrics.mean_squared_error(y_test, y_pred))\n",
    "print(\"Root Mean Square Error (RMSE): \", np.sqrt(metrics.mean_squared_error(y_test, y_pred)))"
   ]
  },
  {
   "cell_type": "code",
   "execution_count": 36,
   "metadata": {},
   "outputs": [
    {
     "data": {
      "text/plain": [
       "Text(0, 0.5, 'Observation')"
      ]
     },
     "execution_count": 36,
     "metadata": {},
     "output_type": "execute_result"
    },
    {
     "data": {
      "image/png": "[encoded data removed]",
      "text/plain": [
       "<Figure size 432x288 with 1 Axes>"
      ]
     },
     "metadata": {
      "needs_background": "light"
     },
     "output_type": "display_data"
    }
   ],
   "source": [
    "#Graph showing the Prediction Error\n",
    "diff = y_test - y_pred\n",
    "diff.hist(bins=40)\n",
    "plt.title('Histogram of Prediction errors')\n",
    "plt.xlabel('Prediction error')\n",
    "plt.ylabel('Observation')"
   ]
  },
  {
   "cell_type": "code",
   "execution_count": null,
   "metadata": {},
   "outputs": [],
   "source": []
  },
  {
   "cell_type": "markdown",
   "metadata": {},
   "source": [
    "### XGBOOST"
   ]
  },
  {
   "cell_type": "code",
   "execution_count": 37,
   "metadata": {},
   "outputs": [
    {
     "name": "stdout",
     "output_type": "stream",
     "text": [
      "[17:08:10] WARNING: C:/Jenkins/workspace/xgboost-win64_release_0.90/src/objective/regression_obj.cu:152: reg:linear is now deprecated in favor of reg:squarederror.\n",
      "[17:08:10] WARNING: C:/Jenkins/workspace/xgboost-win64_release_0.90/src/objective/regression_obj.cu:152: reg:linear is now deprecated in favor of reg:squarederror.\n",
      "[17:08:10] WARNING: C:/Jenkins/workspace/xgboost-win64_release_0.90/src/objective/regression_obj.cu:152: reg:linear is now deprecated in favor of reg:squarederror.\n",
      "[17:08:10] WARNING: C:/Jenkins/workspace/xgboost-win64_release_0.90/src/objective/regression_obj.cu:152: reg:linear is now deprecated in favor of reg:squarederror.\n",
      "[17:08:10] WARNING: C:/Jenkins/workspace/xgboost-win64_release_0.90/src/objective/regression_obj.cu:152: reg:linear is now deprecated in favor of reg:squarederror.\n",
      "[17:08:10] WARNING: C:/Jenkins/workspace/xgboost-win64_release_0.90/src/objective/regression_obj.cu:152: reg:linear is now deprecated in favor of reg:squarederror.\n",
      "[17:08:10] WARNING: C:/Jenkins/workspace/xgboost-win64_release_0.90/src/objective/regression_obj.cu:152: reg:linear is now deprecated in favor of reg:squarederror.\n",
      "[17:08:10] WARNING: C:/Jenkins/workspace/xgboost-win64_release_0.90/src/objective/regression_obj.cu:152: reg:linear is now deprecated in favor of reg:squarederror.\n",
      "[17:08:10] WARNING: C:/Jenkins/workspace/xgboost-win64_release_0.90/src/objective/regression_obj.cu:152: reg:linear is now deprecated in favor of reg:squarederror.\n",
      "[17:08:10] WARNING: C:/Jenkins/workspace/xgboost-win64_release_0.90/src/objective/regression_obj.cu:152: reg:linear is now deprecated in favor of reg:squarederror.\n",
      "[17:08:10] WARNING: C:/Jenkins/workspace/xgboost-win64_release_0.90/src/objective/regression_obj.cu:152: reg:linear is now deprecated in favor of reg:squarederror.\n",
      "MAE Sccore:  14.901733016967777\n"
     ]
    },
    {
     "name": "stderr",
     "output_type": "stream",
     "text": [
      "C:\\Users\\HP\\Anaconda3\\lib\\site-packages\\xgboost\\core.py:587: FutureWarning: Series.base is deprecated and will be removed in a future version\n",
      "  if getattr(data, 'base', None) is not None and \\\n",
      "C:\\Users\\HP\\Anaconda3\\lib\\site-packages\\xgboost\\core.py:587: FutureWarning: Series.base is deprecated and will be removed in a future version\n",
      "  if getattr(data, 'base', None) is not None and \\\n",
      "C:\\Users\\HP\\Anaconda3\\lib\\site-packages\\xgboost\\core.py:587: FutureWarning: Series.base is deprecated and will be removed in a future version\n",
      "  if getattr(data, 'base', None) is not None and \\\n",
      "C:\\Users\\HP\\Anaconda3\\lib\\site-packages\\xgboost\\core.py:587: FutureWarning: Series.base is deprecated and will be removed in a future version\n",
      "  if getattr(data, 'base', None) is not None and \\\n",
      "C:\\Users\\HP\\Anaconda3\\lib\\site-packages\\xgboost\\core.py:587: FutureWarning: Series.base is deprecated and will be removed in a future version\n",
      "  if getattr(data, 'base', None) is not None and \\\n",
      "C:\\Users\\HP\\Anaconda3\\lib\\site-packages\\xgboost\\core.py:587: FutureWarning: Series.base is deprecated and will be removed in a future version\n",
      "  if getattr(data, 'base', None) is not None and \\\n",
      "C:\\Users\\HP\\Anaconda3\\lib\\site-packages\\xgboost\\core.py:587: FutureWarning: Series.base is deprecated and will be removed in a future version\n",
      "  if getattr(data, 'base', None) is not None and \\\n",
      "C:\\Users\\HP\\Anaconda3\\lib\\site-packages\\xgboost\\core.py:587: FutureWarning: Series.base is deprecated and will be removed in a future version\n",
      "  if getattr(data, 'base', None) is not None and \\\n",
      "C:\\Users\\HP\\Anaconda3\\lib\\site-packages\\xgboost\\core.py:587: FutureWarning: Series.base is deprecated and will be removed in a future version\n",
      "  if getattr(data, 'base', None) is not None and \\\n",
      "C:\\Users\\HP\\Anaconda3\\lib\\site-packages\\xgboost\\core.py:587: FutureWarning: Series.base is deprecated and will be removed in a future version\n",
      "  if getattr(data, 'base', None) is not None and \\\n"
     ]
    }
   ],
   "source": [
    "import xgboost as xgb\n",
    "\n",
    "xgb_model = xgb.XGBRegressor(n_estimators=100, max_depth=3, subsample=0.8, random_state=2)\n",
    "xgb_model.fit(X_train, y_train) #training the algorithm\n",
    "print(\"MAE Sccore: \", cross_validate(xgb_model, 10, X_train, y_train))\n",
    "\n",
    "#predict the test data\n",
    "y_pred = xgb_model.predict(X_test)\n"
   ]
  },
  {
   "cell_type": "code",
   "execution_count": 38,
   "metadata": {},
   "outputs": [
    {
     "name": "stdout",
     "output_type": "stream",
     "text": [
      "Xgboost Metrics Perfoemance:\n",
      "\n",
      "Mean Absolute Error (MAE):  19.910313415527344\n",
      "Mean Squared Error (MSE):  582.5016655393644\n",
      "Root Mean Square Error (RMSE):  24.135071276865215\n"
     ]
    }
   ],
   "source": [
    "# The Final step is to evaluate the performance of the algorithm. \n",
    "# We'll do this by finding the values for the Mean Squared Error (MSE), \n",
    "# Mean Absolute Error (MAE), Root Mean Square Error (RMSE).\n",
    "\n",
    "print(\"Xgboost Metrics Perfoemance:\" \"\\n\")\n",
    "print(\"Mean Absolute Error (MAE): \", metrics.mean_absolute_error(y_test, y_pred))\n",
    "print(\"Mean Squared Error (MSE): \", metrics.mean_squared_error(y_test, y_pred))\n",
    "print(\"Root Mean Square Error (RMSE): \", np.sqrt(metrics.mean_squared_error(y_test, y_pred)))"
   ]
  },
  {
   "cell_type": "code",
   "execution_count": 39,
   "metadata": {},
   "outputs": [
    {
     "data": {
      "text/plain": [
       "Text(0, 0.5, 'Observation')"
      ]
     },
     "execution_count": 39,
     "metadata": {},
     "output_type": "execute_result"
    },
    {
     "data": {
      "image/png": "[encoded data removed]",
      "text/plain": [
       "<Figure size 432x288 with 1 Axes>"
      ]
     },
     "metadata": {
      "needs_background": "light"
     },
     "output_type": "display_data"
    }
   ],
   "source": [
    "#Graph showing the Prediction Error\n",
    "diff = y_test - y_pred\n",
    "diff.hist(bins=40)\n",
    "plt.title('Histogram of Prediction errors')\n",
    "plt.xlabel('Prediction error')\n",
    "plt.ylabel('Observation')"
   ]
  },
  {
   "cell_type": "code",
   "execution_count": null,
   "metadata": {},
   "outputs": [],
   "source": []
  },
  {
   "cell_type": "markdown",
   "metadata": {},
   "source": [
    "### ANSWERS TO MACHINE LEARNING QUIZ\n",
    "- Which data features are relevant to predicting the target variable? \n",
    "<p style=\"color:blue;font-size:11pt;\">Answer: Data features relevant to predicting the target values are Pageviews, Clicks </p>\n",
    "- Explain what the difference is between using A/B testing to test a hypothesis (in this case showing a message window) vs using - Machine learning to learn the viability of the same effect? \n",
    "<p style=\"color:blue;font-size:11pt;\">Answer: The major difference between is that A/B testing only compares 2 variables  - an experiment/control to an outcome. The problem is that customer behavior is vastly more complex than this. and this is where Machine Learning excels by generating insights from complex systems. </p>\n",
    "- Understand why Machine Learning could be a better approach for performing A/B Testing versus traditional statistical inference (e.g. z-score, t-test) \n",
    "<p style=\"color:blue;font-size:11pt;\">Answer: Machine Learning is a better approach because it helps in understanding the Complex System, it also give direction and magnitude of the variables</p>\n",
    "- Explain the purpose of training using k-fold cross validation instead of using the whole data to train the ML models?\n",
    "<p style=\"color:blue;font-size:11pt;\">Answer: the purpose of training using k-fold cross validation instead of using the whole data to train the ML models is to make sure each and every data point comes to the test at-least once; thereby evaluating machine learning models on a limited data sample. </p>\n",
    "- Does the \"Experiment\" column prove to be relevant to predicting Enrollment? What does this tell you? Compare this with the A/B testing you did earlier. \n",
    "- What information do you gain using the Machine Learning approach that you couldn’t obtain using A/B testing?"
   ]
  },
  {
   "cell_type": "markdown",
   "metadata": {},
   "source": [
    "**Data analysis tasks**:\n",
    "- Combine the control_tbl and experiment_tbl, adding an “id” column indicating if the data was part of the experiment or not\n",
    "- Add a “row_id” column to help for tracking which rows are selected for training and testing in the modeling section\n",
    "- Create a “Day of Week” feature from the “Date” column\n",
    "- Drop the “Date” column and the “Payments” column\n",
    "- Handle the missing data (NA) by removing these rows.\n",
    "- Shuffle the rows to mix the data up for learning\n",
    "- Using the “Enrollments” columns as target variable, train a machine learning model using 5-fold cross validation the following 3 different algorithms:\n",
    "    - Linear Regression\n",
    "    - Decision Trees\n",
    "    - XGBoost\n",
    "- Calculate the Root Mean Square Error Mean Absolute Error (MAE), Root mean squared error (RMSE)  errors of the model using the test data. See <a href=https://medium.com/human-in-a-machine-world/mae-and-rmse-which-metric-is-better-e60ac3bde13d> here </a> for reference on these metrics.\n",
    "- Compute feature importance - what’s driving the model? Which parameters are important predictors for the difference ML models? What contributes to the goal of gaining Enrollments? \n",
    "<p style=\"color:blue;font-size:11pt;\">Answer: From, the Correlation Matrix:</p> \n",
    "<p style=\"color:blue;font-size:11pt;\">The feature driving the model is Pageviews followed by Clicks </p>\n",
    "<p style=\"color:blue;font-size:11pt;\"> The parameters that are important predictors for the difference ML models are Mean Absolute Error (MAE), followed by Root Mean Square Error (RMSE) </p>\n",
    "<p style=\"color:blue;font-size:11pt;\"> Pageviews contributes to the goal of gaining Enrollments </p>\n",
    "- Discuss your results - draw some conclusions. For example how is the Experiment=0 or 1 variable related to the Enrollment prediction? Hint: think of positive and negative correlations. \n",
    "- Explain what information you gain using the Machine Learning approach that you couldn’t obtain using A/B testing?\n",
    "- Make a recommendation on what Udacity should do?\n",
    "<p style=\"color:blue;font-size:11pt;\"> Udacity should focus on Page Views followed by Clicks to maintain or increase Enrollments. These features drive the system</p>\n",
    "- Comment on what will improve your model.\n",
    "<p style=\"color:blue;font-size:11pt;\"> A larger data should be used and the features should include customer behavior as customers coming from different background behave differently on site </p>\n",
    "- Comment on the challenges you encountered.\n",
    "<p style=\"color:blue;font-size:11pt;\"> Electricity was the major challenge for me here in Nigeria. Also, the time frame for the quiz is short for learners like me. Internet data was a minor challenge</p>"
   ]
  },
  {
   "cell_type": "markdown",
   "metadata": {},
   "source": [
    "## THANKS FOR THE OPPORTUNITY\n"
   ]
  },
  {
   "cell_type": "code",
   "execution_count": null,
   "metadata": {},
   "outputs": [],
   "source": []
  }
 ],
 "metadata": {
  "hide_input": false,
  "kernelspec": {
   "display_name": "Python 3",
   "language": "python",
   "name": "python3"
  },
  "language_info": {
   "codemirror_mode": {
    "name": "ipython",
    "version": 3
   },
   "file_extension": ".py",
   "mimetype": "text/x-python",
   "name": "python",
   "nbconvert_exporter": "python",
   "pygments_lexer": "ipython3",
   "version": "3.7.3"
  },
  "latex_envs": {
   "bibliofile": "biblio.bib",
   "cite_by": "apalike",
   "current_citInitial": 1,
   "eqLabelWithNumbers": true,
   "eqNumInitial": 0
  }
 },
 "nbformat": 4,
 "nbformat_minor": 2
}
